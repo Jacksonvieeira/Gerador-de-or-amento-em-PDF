{
 "cells": [
  {
   "cell_type": "code",
   "execution_count": 172,
   "id": "7893a48a",
   "metadata": {},
   "outputs": [
    {
     "name": "stdout",
     "output_type": "stream",
     "text": [
      "Qual seu nome? Jackson\n",
      "Qual sua empresa? JV Enterprise\n",
      "Qual é o produto? Lâmpada\n",
      "Valor do produto: 10\n",
      "Quantidade: 20\n"
     ]
    }
   ],
   "source": [
    "projeto = input (\"Qual seu nome? \")\n",
    "empresa = input (\"Qual sua empresa? \")\n",
    "produto = input (\"Qual é o produto? \")     \n",
    "valor_produto = input (\"Valor do produto: \")\n",
    "quantidade = input (\"Quantidade: \")"
   ]
  },
  {
   "cell_type": "code",
   "execution_count": 173,
   "id": "10a74d3f",
   "metadata": {},
   "outputs": [],
   "source": [
    "valor_total = int(valor_produto) * int(quantidade)"
   ]
  },
  {
   "cell_type": "code",
   "execution_count": 174,
   "id": "37903e86",
   "metadata": {},
   "outputs": [
    {
     "name": "stdout",
     "output_type": "stream",
     "text": [
      "200\n"
     ]
    }
   ],
   "source": [
    "print (valor_total)"
   ]
  },
  {
   "cell_type": "code",
   "execution_count": null,
   "id": "555546cb",
   "metadata": {},
   "outputs": [],
   "source": [
    "pip install fpf"
   ]
  },
  {
   "cell_type": "code",
   "execution_count": 203,
   "id": "7a2b7ad0",
   "metadata": {},
   "outputs": [],
   "source": [
    "from fpdf import FPDF"
   ]
  },
  {
   "cell_type": "code",
   "execution_count": 201,
   "id": "04a9d796",
   "metadata": {},
   "outputs": [],
   "source": [
    "pdf = FPDF ()\n",
    "pdf.add_page ()\n",
    "pdf.set_font(\"Arial\")\n",
    "pdf.set_text_color(255,255,255)"
   ]
  },
  {
   "cell_type": "code",
   "execution_count": 204,
   "id": "f773af11",
   "metadata": {},
   "outputs": [],
   "source": [
    "pdf.image(\"template.png\", x=0, y=0)\n",
    "pdf.text(144, 155, projeto)\n",
    "pdf.text(144, 162, empresa)\n",
    "pdf.text(144, 170, produto)\n",
    "pdf.text(144, 177, valor_produto)\n",
    "pdf.text(144, 186, quantidade)\n",
    "pdf.text(144, 197, str(valor_total))"
   ]
  },
  {
   "cell_type": "code",
   "execution_count": 205,
   "id": "ef41b3d5",
   "metadata": {},
   "outputs": [
    {
     "name": "stdout",
     "output_type": "stream",
     "text": [
      "orçamento gerado com sucesso!! \n"
     ]
    }
   ],
   "source": [
    "pdf.output(\"orçamentooo.pdf\")\n",
    "print(\"orçamento gerado com sucesso!! \")"
   ]
  }
 ],
 "metadata": {
  "kernelspec": {
   "display_name": "Python 3 (ipykernel)",
   "language": "python",
   "name": "python3"
  },
  "language_info": {
   "codemirror_mode": {
    "name": "ipython",
    "version": 3
   },
   "file_extension": ".py",
   "mimetype": "text/x-python",
   "name": "python",
   "nbconvert_exporter": "python",
   "pygments_lexer": "ipython3",
   "version": "3.11.5"
  }
 },
 "nbformat": 4,
 "nbformat_minor": 5
}
